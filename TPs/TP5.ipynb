{
  "nbformat": 4,
  "nbformat_minor": 0,
  "metadata": {
    "colab": {
      "provenance": []
    },
    "kernelspec": {
      "name": "python3",
      "display_name": "Python 3"
    },
    "language_info": {
      "name": "python"
    }
  },
  "cells": [
    {
      "cell_type": "markdown",
      "source": [
        "# El modelo *Integrate and Fire*\n",
        "\n",
        "## Teoría\n",
        "\n",
        "El modelo *Integrate and Fire* del comportamiento de una neurona viene descripto por dos ingredientes. En primer lugar, la ODE\n",
        "\n",
        "\\begin{eqnarray}\n",
        "\\frac{dV}{dt}\n",
        "&=&\n",
        "\\frac{1}{\\tau}\n",
        "\\left(\n",
        "E-V(t)\n",
        "+\n",
        "RI(t)\n",
        "\\right)\n",
        "\\end{eqnarray}\n",
        "\n",
        "donde:\n",
        "\n",
        "* $V(t)$ representa el potencial de membrana al tiempo $t$,\n",
        "\n",
        "* $E\\approx -65mV$ representa el potencial de reposo,\n",
        "\n",
        "* $\\tau\\approx 10ms$ representa el tiempo de relajación,\n",
        "\n",
        "* $R\\approx 10M\\Omega$ representa una resistencia eléctrica, y\n",
        "\n",
        "* $I(t)\\approx 1nA$ representa una corriente/señal de entrada.\n",
        "\n",
        "En segundo lugar, un mecanismo de disparo definido por\n",
        "\n",
        "\\begin{eqnarray}\n",
        "V(t) \\to E\n",
        "\\end{eqnarray}\n",
        "\n",
        "cuando\n",
        "\n",
        "\\begin{eqnarray}\n",
        "V(t) > V_u\n",
        "\\end{eqnarray}\n",
        "\n",
        "donde:\n",
        "\n",
        "* $V_u \\approx -50mV$ representa un potencial umbral.\n",
        "\n",
        "Es decir, según el mecanismo de disparo, el potencial de membrana $V(t)$ se resetea a su valor de reposo $E$ si supera cierto valor umbral $V_u$.\n",
        "\n",
        "## Unidades\n",
        "\n",
        "* p = pico = $10^{-12}$\n",
        "* n = nano = $10^{-9}$\n",
        "* $\\mu$ = micro = $10^{-6}$\n",
        "* m = mili = $10^{-3}$\n",
        "* ...\n",
        "* k = kilo = $10^{3}$\n",
        "* M = Mega = $10^{6}$\n",
        "* G = Giga = $10^{9}$\n",
        "* T = Tera = $10^{12}$\n",
        "\n",
        "### Ley de Ohm\n",
        "\n",
        "Si $\\Omega$ = Ohmio, V = Voltio y A = Amper, entonces\n",
        "\n",
        "$$ 1\\, Ohm = 1 \\Omega = \\frac{1 V}{1 A} $$\n",
        "\n",
        "### Ley RC\n",
        "\n",
        "Si s = segundos y F = Faradios, entonces\n",
        "\n",
        "$$ 1 s = 1 \\Omega \\times 1 F $$\n",
        "\n",
        "### Hertz\n",
        "\n",
        "Si Hz = Hertz, luego\n",
        "\n",
        "$$ 1 Hz = \\frac{1}{1 s} $$\n",
        "\n",
        "### Referencias\n",
        "\n",
        "* https://technologystudent.com/elec1/ohm1.htm\n",
        "\n",
        "* https://en.wikipedia.org/wiki/Biological_neuron_model#Leaky_integrate-and-fire\n",
        "\n",
        "* https://compneuro.neuromatch.io/tutorials/W2D3_BiologicalNeuronModels/student/W2D3_Tutorial1.html"
      ],
      "metadata": {
        "id": "NRYEofSD0xoF"
      }
    },
    {
      "cell_type": "markdown",
      "source": [
        "\n",
        "\n",
        "## **Ejercicio 1)** Importando librerías\n",
        "\n",
        "**1)** Importe las librerías `numpy` para operar con arrays, `scipy` para utilizar rutinas de algebra lineal y `matplotlib.pyplot` para graficar.\n",
        "\n",
        "**2)** Suba el archivo \"libreria\" `ode.py` que fabricó en el práctico 4), e impórtelo."
      ],
      "metadata": {
        "id": "xSg4xeHbPFTb"
      }
    },
    {
      "cell_type": "code",
      "source": [
        "# 1.1)\n",
        "import numpy as np\n",
        "import scipy as sp\n",
        "import scipy.linalg as linalg\n",
        "import matplotlib.pyplot as plt"
      ],
      "metadata": {
        "id": "I8N3D_nU1_oT"
      },
      "execution_count": null,
      "outputs": []
    },
    {
      "cell_type": "code",
      "source": [
        "# 1.2)\n",
        "import ode"
      ],
      "metadata": {
        "id": "RmyNi-fhTmWm"
      },
      "execution_count": null,
      "outputs": []
    },
    {
      "cell_type": "markdown",
      "source": [
        "## **Ejercicio 2)** Dinámica con mecanismo de disparo desactivado\n",
        "\n",
        "En lo que sigue, se considera desactivado el mecanismo de disparo.\n",
        "\n",
        "**1)** Resuelva analíticamente la ODE del modelo *Integrate and Fire* para una condición inicial arbitraria $V(0)=V_0$ y una corriente de entrada $I=0$.\n",
        "\n",
        "**2)** Grafique la solución para $V_0=10mV$ y $t\\in [0,100]ms$. Incorpore al gráfico una línea punteada indicando el potencial de reposo.\n",
        "\n",
        "**3)** Realice un análisis geométrico de la solución calculada. Incorpore flechas del campo vectorial así como los puntos fijos estables, inestables y marginales, si los hubiere.\n",
        "\n",
        "**4)** Repita **1)**, **2)** y **3)** para el caso de corriente de entrada constante, $I=2$nA.\n",
        "\n",
        "### Extra\n",
        "\n",
        "**5)** Resuelva analíticamente la ODE para una corriente de entrada $I:t\\to I(t)$ arbitraria."
      ],
      "metadata": {
        "id": "NcaGEHAd10sb"
      }
    },
    {
      "cell_type": "code",
      "source": [
        "# 2.1)"
      ],
      "metadata": {
        "id": "2EwuGG0gZs_-"
      },
      "execution_count": null,
      "outputs": []
    },
    {
      "cell_type": "markdown",
      "source": [
        "## **Ejercicio 3)** Dinámica con mecanismo de disparo activado\n",
        "\n",
        "**1)** Resuelva numéricamente la ODE del modelo *Integrate and Fire* en el intervalo $t\\in [0,200]ms$ para la condición inicial $V(0)=E$ y una corriente de entrada $I(t)=I_0$ para todo $t$ con $I_0=2nA$. Utilice el paso de integración $h=0.05ms$.\n",
        "\n",
        "**2)** Grafique la solución computada en el inciso **3.1)**. Incorpore al gráfico la solución exacta del inciso **2.1)**, en donde el mecanismo de disparo está desactivado, para la misma condición inicial del inciso **3.1)**. Grafique, también, líneas punteadas horizontales marcando los valores de $V^*$ y $V_u$, donde $V^*$ es el valor de $V$ tal que $f(V)=0$.\n",
        "\n",
        "**3)** Para el caso indicado en el inciso **3.1)**, calcule analíticamente el período de disparo.\n",
        "Observe si el valor computado corresponde con el observado en el inciso **3.2)**.\n",
        "Grafíque la frencuencia en función de $I_0$.\n",
        "Que ocurre para valores pequeños de $I_0$?\n",
        "\n",
        "\n",
        "**4)** Repita **3.1)** y **3.2)** con $I_e(t)=I_0 \\cos(t/30ms)$ e $I_0=2.5nA$ para $0\\,ms\\leq t\\leq 500\\,ms$. En este caso, no incluya la solución exacta del inciso **2.1)**, pero sí lineas punteadas horizontales para marcar los valores de $E$ y $V_u$.\n",
        "\n",
        "**5)** Repita **3.1)** y **3.2)** con\n",
        "\n",
        "\\begin{equation}\n",
        "I(t)= I_0 \\, \\left(\n",
        "    \\cos{\\left( \\frac{t}{3ms} \\right)} +\n",
        "    \\sin{\\left( \\frac{t}{5ms} \\right)} +\n",
        "    \\cos{\\left( \\frac{t}{7ms} \\right)} +\n",
        "    \\sin{\\left( \\frac{t}{11ms} \\right)} +\n",
        "    \\cos{\\left( \\frac{t}{13ms} \\right)}  \\right)^2 \\, nA \\,\n",
        "    \\;\\;\\;(4)\n",
        "\\end{equation}\n",
        "\n",
        "e $I_0=0.35 nA$ para $0\\,ms\\leq t\\leq 200\\,ms$. Al igual que en inciso anterior, no incluya la solución exacta del inciso **2.a)**, pero sí lineas punteadas horizontales para marcar los valores de $E$ y $V_u$."
      ],
      "metadata": {
        "id": "ZA8o18QvZLWY"
      }
    },
    {
      "cell_type": "code",
      "source": [
        "# 3.1)"
      ],
      "metadata": {
        "id": "TsHJjcCmTxa1"
      },
      "execution_count": null,
      "outputs": []
    }
  ]
}