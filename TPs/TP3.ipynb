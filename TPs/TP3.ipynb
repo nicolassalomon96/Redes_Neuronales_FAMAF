{
  "cells": [
    {
      "cell_type": "markdown",
      "metadata": {
        "id": "NRYEofSD0xoF"
      },
      "source": [
        "# Algebra lineal con **SciPy**\n",
        "\n",
        "Referencias:\n",
        "\n",
        "* https://docs.scipy.org/doc/scipy/reference/linalg.html\n",
        "* https://www.datacamp.com/cheat-sheet/scipy-cheat-sheet-linear-algebra-in-python\n",
        "\n",
        "## **Ejercicio 1)** Importando librerías\n",
        "\n",
        "Importe las librerías `numpy` para operar con arrays, `scipy` para utilizar rutinas de algebra lineal y `matplotlib.pyplot` para graficar."
      ]
    },
    {
      "cell_type": "code",
      "execution_count": 1,
      "metadata": {
        "id": "I8N3D_nU1_oT"
      },
      "outputs": [],
      "source": [
        "import numpy as np\n",
        "import scipy as sp\n",
        "import scipy.linalg as linalg\n",
        "import matplotlib.pyplot as plt"
      ]
    },
    {
      "cell_type": "markdown",
      "metadata": {
        "id": "NcaGEHAd10sb"
      },
      "source": [
        "## **Ejercicio 2)** Inversa de una matriz\n",
        "\n",
        "Referencias:\n",
        "\n",
        "* https://docs.scipy.org/doc/scipy/reference/generated/scipy.linalg.inv.html#scipy.linalg.inv\n",
        "\n",
        "**1)** Use `linalg.inv()` para calcular la inversa $A^{-1}$ de la matriz\n",
        "\n",
        "\\begin{equation}\n",
        "A = \\bigg(\n",
        "\\begin{array}{cc}\n",
        "1 & 2 \\\\\n",
        "3 & 4\n",
        "\\end{array}\n",
        "\\bigg)\n",
        "\\end{equation}\n",
        "\n",
        "**2)** Use `np.dot()` para chequear que $A^{-1}A \\approx \\mathbb{I}$, donde $\\mathbb{I}$ es la matriz identidad.\n",
        "\n",
        "**3)** Chequee que $AA^{-1} \\approx \\mathbb{I}$."
      ]
    },
    {
      "cell_type": "code",
      "execution_count": 2,
      "metadata": {
        "id": "tntEwNvE4SZC"
      },
      "outputs": [
        {
          "name": "stdout",
          "output_type": "stream",
          "text": [
            "[[1 2]\n",
            " [3 4]]\n",
            "[[-2.   1. ]\n",
            " [ 1.5 -0.5]]\n",
            "[[1.00000000e+00 0.00000000e+00]\n",
            " [1.11022302e-16 1.00000000e+00]]\n",
            "[[1.0000000e+00 0.0000000e+00]\n",
            " [8.8817842e-16 1.0000000e+00]]\n"
          ]
        }
      ],
      "source": [
        "a = np.array([[1,2],[3,4]])\n",
        "print(a)\n",
        "# 2.1)\n",
        "inversa = linalg.inv(a)\n",
        "print(inversa)\n",
        "\n",
        "print(np.dot(inversa,a))\n",
        "print(np.dot(a,inversa))"
      ]
    },
    {
      "cell_type": "markdown",
      "metadata": {
        "id": "4pp5DryY2azA"
      },
      "source": [
        "## **Ejercicio 3)** Sistema de ecuaciones lineales\n",
        "\n",
        "Referencias:\n",
        "\n",
        "* https://docs.scipy.org/doc/scipy/reference/generated/scipy.linalg.solve.html#scipy.linalg.solve\n",
        "\n",
        "**1)** Use `linalg.solve()` para resolver el sistema $Ax=b$ donde, $x$ es la incógnita,\n",
        "\n",
        "\\begin{equation}\n",
        "A = \\left(\n",
        "\\begin{array}{cc}\n",
        "3 & 2 & 0 \\\\\n",
        "1 & -1 & 0 \\\\\n",
        "0 & 5 & 1\n",
        "\\end{array}\n",
        "\\right)\n",
        "\\end{equation}\n",
        "\n",
        "y\n",
        "\n",
        "\\begin{equation}\n",
        "b = \\left(\n",
        "\\begin{array}{cc}\n",
        "2 \\\\\n",
        "4 \\\\\n",
        "1\n",
        "\\end{array}\n",
        "\\right)\n",
        "\\end{equation}\n",
        "\n",
        "**2)** Chequee que $Ax=b$."
      ]
    },
    {
      "cell_type": "code",
      "execution_count": 11,
      "metadata": {
        "colab": {
          "base_uri": "https://localhost:8080/"
        },
        "id": "PshUolMT2ZtI",
        "outputId": "e60aac17-b824-4cd6-e031-eca9a5fbb2a3"
      },
      "outputs": [
        {
          "name": "stdout",
          "output_type": "stream",
          "text": [
            "[[ 2.]\n",
            " [-2.]\n",
            " [11.]]\n",
            "[[2.]\n",
            " [4.]\n",
            " [1.]]\n",
            "[[2]\n",
            " [4]\n",
            " [1]]\n"
          ]
        }
      ],
      "source": [
        "# 3.1)\n",
        "a = np.array([[3,2,0], [1,-1,0], [0,5,1]])\n",
        "b = np.array([[2],[4],[1]])\n",
        "\n",
        "x = linalg.solve(a,b)\n",
        "print(x)\n",
        "\n",
        "print(np.dot(a,x))\n",
        "print(b)"
      ]
    },
    {
      "cell_type": "markdown",
      "metadata": {
        "id": "YS7bf2SJ2nws"
      },
      "source": [
        "## **Ejercicio 4)** Cuadrados mínimos\n",
        "\n",
        "Dada una matriz $X$ de dimensiones $n\\times m$ y un vector $y$ de dimensión $n$, la función `linalg.lstsq(X,y,...)` se usa para encontrar el vector $y$ de dimensión $m$ que minimize la norma L2 $|y-Xc|$. Notar que minimizar esta cantidad no necesariamente implica que $Xc=y$. Minimizar $|y-Xc|$ es útil para infinidad de problemas. En particular, es útil para ajustar polinomios a datos.\n",
        "\n",
        "Referencias:\n",
        "\n",
        "* https://docs.scipy.org/doc/scipy/reference/generated/scipy.linalg.lstsq.html#scipy.linalg.lstsq\n",
        "\n",
        "**1)** Use `linalg.lstsq(X,y)` para encontrar los coeficientes $c_0, $c_1 y $c_2$ del polinomio $p(x)=c_0+c_1x+c_2x^2$ que ajuste lo mejor posible los siguientes datos\n",
        "\n",
        "    x = np.array([1.0, 2.5, 3.5, 4.0, 5.0, 7.0, 8.5])\n",
        "    y = np.array([0.3, 1.1, 1.5, 2.0, 3.2, 6.6, 8.6])\n",
        "\n",
        "de acuerdo al método de cuadrados mínimos\n",
        "\n",
        "\\begin{eqnarray}\n",
        "\\min_{c_0,c_1,c_2} \\sum_i (y_i-p(x_i))^2\n",
        "\\end{eqnarray}\n",
        "\n",
        "**Ayuda:** Utilizar la matriz $X$ de entradas $X_{ij}=x_i^j$, i.e. la $j$-ésima potencia de $x_i$.\n",
        "\n",
        "**2)** Con el fin de evaluar la bondad del ajuste, grafique en una misma figura:\n",
        "\n",
        "* con símbolos los datos y\n",
        "* con una curva el polinomio ajustado."
      ]
    },
    {
      "cell_type": "code",
      "execution_count": 19,
      "metadata": {
        "id": "EQXxlhEM2k8s"
      },
      "outputs": [
        {
          "name": "stdout",
          "output_type": "stream",
          "text": [
            "Coeficientes:\n",
            "c0: 0.05784029905281275\n",
            "c1: 0.07701453104359293\n",
            "c2: 0.11262261446358811\n"
          ]
        }
      ],
      "source": [
        "# 4.1)\n",
        "# Datos de entrada\n",
        "x = np.array([1.0, 2.5, 3.5, 4.0, 5.0, 7.0, 8.5])\n",
        "y = np.array([0.3, 1.1, 1.5, 2.0, 3.2, 6.6, 8.6])\n",
        "\n",
        "# Crear la matriz de diseño X con las potencias de x\n",
        "X = np.vstack([np.ones_like(x), x, x**2]).T\n",
        "\n",
        "# Calcular los coeficientes utilizando lstsq\n",
        "coefficients, _, _, _= linalg.lstsq(X, y)\n",
        "\n",
        "# Los coeficientes c0, c1 y c2 del polinomio\n",
        "c0, c1, c2 = coefficients\n",
        "\n",
        "print(\"Coeficientes:\")\n",
        "print(\"c0:\", c0)\n",
        "print(\"c1:\", c1)\n",
        "print(\"c2:\", c2)"
      ]
    },
    {
      "cell_type": "code",
      "execution_count": 21,
      "metadata": {},
      "outputs": [
        {
          "data": {
            "image/png": "[encoded data removed]",
            "text/plain": [
              "<Figure size 640x480 with 1 Axes>"
            ]
          },
          "metadata": {},
          "output_type": "display_data"
        }
      ],
      "source": [
        "x_test = np.arange(0,10,0.5)\n",
        "y_test = c0 + c1 * x_test + c2 * x_test**2\n",
        "\n",
        "plt.figure()\n",
        "plt.scatter(x,y, label='Valores reales')\n",
        "plt.plot(x_test, y_test, c='r', label='Curva ajustada')\n",
        "plt.grid()\n",
        "plt.legend()\n",
        "plt.show()"
      ]
    },
    {
      "cell_type": "markdown",
      "metadata": {
        "id": "Siuu1AyTP_cF"
      },
      "source": [
        "## **Ejercicio 5)** pseudo-inversa de Moore-Penrose de una matriz\n",
        "\n",
        "La pseudo-inversa de Moore-Penrose es una generalización de la noción de inversa, que resulta útil porque existe para cualquier matriz de dimensiones y entradas arbitrarias sobre los números reales o complejos.\n",
        "\n",
        "Si una matriz $A$ es invertible (y por ende cuadrada), existe una matriz $B$ tal $AB=BA=\\mathbb{I}$. Dicha matríz $B$ es única (para la $A$ dada) y, por ende, se la denota por $A^{-1}$ y se la denomina inversa de $A$.\n",
        "\n",
        "Si $A$ no es invertible, luego no existe una matriz $B$ para la cual se cumpla la primera condición $AB=BA=\\mathbb{I}$. Sin embargo, se puede ver que siempre existe una matriz $B$ para la cual se cumple $ABA = A$ y $BAB=B$. Dicha matriz $B$ es única (para la $A$ dada) y, por ende, se la denota por $A^+$ y se la denomina matríz pseudo-inversa de Moore-Penrose de $A$.\n",
        "\n",
        "Referencias:\n",
        "\n",
        "* https://en.wikipedia.org/wiki/Moore%E2%80%93Penrose_inverse\n",
        "* https://docs.scipy.org/doc/scipy/reference/generated/scipy.linalg.pinv.html#scipy.linalg.pinv\n",
        "\n",
        "**1)** Cree una matriz $A$ de dimensiones $n\\times m$ con $n=9$ y $m=6$ de números aleatorios generados a partir de la distribución normal de media 0 y varianza 1.\n",
        "\n",
        "**2)** Use `linalg.pinv()` para computar la psuedo-inversa de Moore-Penrose $A^+$ de $A$.\n",
        "\n",
        "**3)** Que dimensiones tiene $A^+$?\n",
        "\n",
        "**4)** Use `np.allclose()` para verifique que $AA^+A\\approx A$.\n",
        "\n",
        "**5)** Verifique que $A^+AA^+\\approx A^+$."
      ]
    },
    {
      "cell_type": "code",
      "execution_count": 40,
      "metadata": {
        "colab": {
          "base_uri": "https://localhost:8080/"
        },
        "id": "j139zRcL44_O",
        "outputId": "1d492b56-757f-48e7-85f0-0ed340ad9efe"
      },
      "outputs": [
        {
          "name": "stdout",
          "output_type": "stream",
          "text": [
            "(9, 6)\n",
            "Dimensiones de la inversa: (6, 9)\n",
            "True\n",
            "True\n"
          ]
        }
      ],
      "source": [
        "# 5.1)\n",
        "a = np.random.randn(9,6)\n",
        "pseudo_inversa = linalg.pinv(a)\n",
        "print(f'Dimensiones de la inversa: {pseudo_inversa.shape}')\n",
        "\n",
        "print(np.allclose(a, np.dot(np.dot(a,pseudo_inversa),a)))\n",
        "\n",
        "print(np.allclose(pseudo_inversa, np.dot(np.dot(pseudo_inversa,a),pseudo_inversa)))"
      ]
    },
    {
      "cell_type": "markdown",
      "metadata": {
        "id": "lmq42jPWWvY0"
      },
      "source": [
        "## **Ejercicio 5)** Producto de Kronecker\n",
        "\n",
        "Considere las matrices\n",
        "\n",
        "\\begin{equation}\n",
        "A = \\left(\n",
        "\\begin{array}{cc}\n",
        "A_{11} & \\dots & A_{1m} \\\\\n",
        "\\vdots & \\ddots & \\vdots \\\\\n",
        "A_{nm} & \\dots & A_{nm}\n",
        "\\end{array}\n",
        "\\right)\n",
        "\\end{equation}\n",
        "\n",
        "y\n",
        "\n",
        "\\begin{equation}\n",
        "B = \\left(\n",
        "\\begin{array}{cc}\n",
        "B_{11} & \\dots & B_{1s} \\\\\n",
        "\\vdots & \\ddots & \\vdots \\\\\n",
        "B_{r1} & \\dots & B_{rs}\n",
        "\\end{array}\n",
        "\\right)\n",
        "\\end{equation}\n",
        "\n",
        "El producto de Kronecker es la matriz de dimensiones $nr\\times ms$ dada por\n",
        "\n",
        "\\begin{equation}\n",
        "A\\otimes B\n",
        "=\n",
        "\\left(\n",
        "\\begin{array}{cc}\n",
        "A_{11}B & \\dots & A_{1m}B \\\\\n",
        "\\vdots & \\ddots & \\vdots \\\\\n",
        "A_{n1}B & \\dots & A_{nm}B\n",
        "\\end{array}\n",
        "\\right)\n",
        "=\n",
        "\\left(\n",
        "\\begin{array}{cc}\n",
        "B_{11}A & \\dots & B_{1s}A \\\\\n",
        "\\vdots & \\ddots & \\vdots \\\\\n",
        "B_{r1}A & \\dots & B_{rs}A\n",
        "\\end{array}\n",
        "\\right)\n",
        "\\end{equation}\n",
        "\n",
        "donde $A_{ij}B$ es un bloque de la matriz $A\\otimes B$ igual al producto del escalar $A_{ij}$ por la matriz $B$.\n",
        "Idem para $B_{ij}A$.\n",
        "\n",
        "Referencias:\n",
        "\n",
        "* https://docs.scipy.org/doc/scipy/reference/generated/scipy.linalg.kron.html#scipy.linalg.kron\n",
        "\n",
        "**1)** Use `linalg.kron()` para calcular el producto de Kronecker de las matrices\n",
        "\n",
        "\\begin{equation}\n",
        "A = \\left(\n",
        "\\begin{array}{cc}\n",
        "1 & 2 \\\\\n",
        "3 & 4 \\\\\n",
        "\\end{array}\n",
        "\\right)\n",
        "\\end{equation}\n",
        "\n",
        "y\n",
        "\n",
        "\\begin{equation}\n",
        "B = \\left(\n",
        "\\begin{array}{cc}\n",
        "1 \\\\\n",
        "1 \\\\\n",
        "1 \\\\\n",
        "\\end{array}\n",
        "\\right)\n",
        "\\end{equation}\n",
        "\n",
        "Que dimensiones tiene $A\\otimes B$ en este caso?\n",
        "\n",
        "**2)** Repita para las matrices\n",
        "\n",
        "\\begin{equation}\n",
        "A = \\left(\n",
        "\\begin{array}{cc}\n",
        "1 & 2 \\\\\n",
        "3 & 4 \\\\\n",
        "\\end{array}\n",
        "\\right)\n",
        "\\end{equation}\n",
        "\n",
        "y\n",
        "\n",
        "\\begin{equation}\n",
        "B = \\left(\n",
        "\\begin{array}{cc}\n",
        "1 & 1 & 1\n",
        "\\end{array}\n",
        "\\right)\n",
        "\\end{equation}\n",
        "\n",
        "Que dimensiones tiene $A\\otimes B$ en este otro caso?"
      ]
    },
    {
      "cell_type": "code",
      "execution_count": 28,
      "metadata": {
        "colab": {
          "base_uri": "https://localhost:8080/"
        },
        "id": "HMSSVY0-IMx_",
        "outputId": "98ce83eb-5ac2-4347-ebde-e49d020b5cbf"
      },
      "outputs": [
        {
          "name": "stdout",
          "output_type": "stream",
          "text": [
            "Dimensiones a*b: (6, 2)\n",
            "Dimensiones a*b: (2, 6)\n"
          ]
        }
      ],
      "source": [
        "# 5.1)\n",
        "a = np.array([[1,2], [3,4]])\n",
        "b = np.ones((3,1))\n",
        "\n",
        "kronecker = linalg.kron(a,b)\n",
        "print(f'Dimensiones a*b: {kronecker.shape}')\n",
        "\n",
        "a_1 = np.array([[1,2], [3,4]])\n",
        "b_1 = np.ones((1,3))\n",
        "\n",
        "kronecker_1 = linalg.kron(a_1,b_1)\n",
        "print(f'Dimensiones a*b: {kronecker_1.shape}')"
      ]
    },
    {
      "cell_type": "markdown",
      "metadata": {
        "id": "2OsaX5tGJ3QD"
      },
      "source": [
        "## **Ejercicio 5)** Autovalores y autovectores\n",
        "\n",
        "Considere una matriz $A$ de $n\\times m$. Luego, existen un conjunto de escalares $\\{\\lambda_1,...,\\lambda_n\\}$ y un correspondiente conjunto de vectores distintos $\\{v_1,...,v_n\\}$ tales que\n",
        "\n",
        "\\begin{eqnarray}\n",
        "Av_i = \\lambda_i v_i \\;\\;\\;\\; (1)\n",
        "\\end{eqnarray}\n",
        "\n",
        "para todo $i\\in\\{1,...,n\\}$. Estos $\\lambda_i$ y $v_i$ se denominan autovalores y autovectores a derecha de $A$, respectivamente. Los autovalores pueden repetirse, pueden ser nulos y se los suele ordenar de mayor a menor en orden descendiente de sus valores absolutos: $|\\lambda_1|\\geq |\\lambda_2|\\geq ...\\geq |\\lambda_n|\\geq 0$. Los autovectores pueden normalizarse, ya que si $v_i$ es autovector, luego $v_i/|v_i|$ también lo es.\n",
        "\n",
        "Los autovectores constituyen una base del dominio de $A$. Esto es muy útil porque permite escribir cualquier vector $v$ en el dominio de $A$ como una combinación linal de sus autovectores\n",
        "\n",
        "\\begin{eqnarray}\n",
        "v = \\sum_i c_i v_i\n",
        "\\end{eqnarray}\n",
        "\n",
        "Luego, calcular el producto de $A$ con $v$ resulta muy simple\n",
        "\n",
        "\\begin{eqnarray}\n",
        "Av = A\\left(\\sum_i c_i v_i\\right) = \\sum_i c_iAv_i = \\sum_i c_i\\lambda_iv_i\n",
        "\\end{eqnarray}\n",
        "\n",
        "Análogamente, existen un conjunto de escalares $\\{\\mu_1,...,\\mu_m\\}$ y un correspondiente conjunto de vectores diferentes $\\{u_1,...,u_m\\}$ de $A$, llamados autovalores y autovectores a izquierda de $A$, respectivamente, y son tales que\n",
        "\n",
        "\\begin{eqnarray}\n",
        "u_jA = \\mu_j u_j \\;\\;\\;\\; (2)\n",
        "\\end{eqnarray}\n",
        "\n",
        "para todo $j\\in\\{1,...,m\\}$.\n",
        "\n",
        "**1)** Use `linalg.eigvals()` para calcular los autovalores a derecha de la matriz\n",
        "\n",
        "\\begin{equation}\n",
        "A = \\left(\n",
        "\\begin{array}{cc}\n",
        "0 & -1 \\\\\n",
        "1 &  0\n",
        "\\end{array}\n",
        "\\right)\n",
        "\\end{equation}\n",
        "\n",
        "Referencias:\n",
        "\n",
        "* https://docs.scipy.org/doc/scipy/reference/generated/scipy.linalg.eig.html#scipy.linalg.eig\n",
        "\n",
        "**2)** Use `linalg.eig()` para calcular los autovalores y los correspondientes autovectores a derecha de $A$.\n",
        "\n",
        "**3)** Verifique que la ecuación $(1)$ se cumple.\n",
        "\n",
        "**4)** Use `linalg.eig()` para calcular los autovalores y los correspondientes autovectores a izquierda de $A$.\n",
        "\n",
        "**5)** Verifique que la ecuación $(2)$ se cumple."
      ]
    },
    {
      "cell_type": "code",
      "execution_count": 32,
      "metadata": {
        "colab": {
          "base_uri": "https://localhost:8080/"
        },
        "id": "MmZ790fmKNQP",
        "outputId": "10d21c13-77c8-426a-ea8a-555dbe42e575"
      },
      "outputs": [
        {
          "name": "stdout",
          "output_type": "stream",
          "text": [
            "[0.+1.j 0.-1.j]\n",
            "[0.+1.j 0.-1.j]\n",
            "[[0.70710678+0.j         0.70710678-0.j        ]\n",
            " [0.        -0.70710678j 0.        +0.70710678j]]\n",
            "[0.+1.j 0.-1.j]\n",
            "[[-0.70710678+0.j         -0.70710678-0.j        ]\n",
            " [ 0.        +0.70710678j  0.        -0.70710678j]]\n"
          ]
        }
      ],
      "source": [
        "# 5.1)\n",
        "a = np.array([[0,-1],[1,0]])\n",
        "autovalores = linalg.eigvals(a)\n",
        "\n",
        "print(autovalores)\n",
        "\n",
        "autovalores_1, autovectores = linalg.eig(a)\n",
        "print(autovalores_1)\n",
        "print(autovectores)\n",
        "\n",
        "autovalores_izq, autovectores_izq = linalg.eig(a, left=True, right=False)\n",
        "print(autovalores_izq)\n",
        "print(autovectores_izq)"
      ]
    },
    {
      "cell_type": "markdown",
      "metadata": {
        "id": "hJq6cMug_8WP"
      },
      "source": [
        "## **Ejercicio 6)** Singular Value Decomposition (SVD)\n",
        "\n",
        "Una matriz compleja $A$ de dimensiones $n\\times m$ se la puede pensar como una transformación lineal $A:V\\to W$ desde un espacio vectorial $V$ de dimensión $m$ a un espacio vectorial $W$ de dimensión $n$.\n",
        "A $V$ se lo suele llamar espacio de salida y a $W$ espacio de llegada.\n",
        "\n",
        "Cualquiera sea $A$, siempre existen matrices $L$, $D$ y $R$, de dimensiones $n\\times n$, $n\\times m$ y $m\\times m$, respectivamente, tales que $L$ y $R$ son unitarias, $D$ es diagonal y\n",
        "\n",
        "\\begin{eqnarray}\n",
        "A = LDR^{\\dagger} \\;\\;\\;\\; (1)\n",
        "\\end{eqnarray}\n",
        "\n",
        "Los valores diagonales\n",
        "\n",
        "\\begin{eqnarray}\n",
        "\\sigma_i := D_{ii}\n",
        "\\end{eqnarray}\n",
        "\n",
        "están definidos para todo $i\\in \\{1,...,k\\}$, donde $k=\\min(n,m)$,\n",
        "se los denomina valores singulares de $A$, son todos reales y no-negativos.\n",
        "La descomposición siempre puede realizarse de manera tal que $\\sigma_1\\geq \\sigma_2 \\geq ... \\geq \\sigma_k\\geq 0$.\n",
        "El número de valores singulares no nulos es el rango de $A$.\n",
        "\n",
        "Los vectores columna $l_1,...,l_n$ de $L$ forman una base ortonormal del espacio vectorial de llegada $W$.\n",
        "Los vectores columna $r_1,...,r_m$ de $R$ forman una base ortonormal del espacio vectorial de salida $V$.\n",
        "Usando estas propiedades, la ecuación $(1)$ puede reescribirse como\n",
        "\n",
        "\\begin{eqnarray}\n",
        "A = \\sum_{i=1}^k \\sigma_i \\, (l_i \\otimes r_i^{\\dagger}) \\;\\;\\;\\; (2)\n",
        "\\end{eqnarray}\n",
        "\n",
        "donde $l_i \\otimes r_i^{\\dagger}$ es la matriz de dimensiones $n\\times m$ resultante del producto de Kronecker entre la matriz $l_i$ de dimensiones $n\\times 1$ y la matriz $r_i^{\\dagger}$ de dimensiones $1\\times m$.\n",
        "\n",
        "Referencias:\n",
        "\n",
        "* https://en.wikipedia.org/wiki/Singular_value_decomposition\n",
        "* https://docs.scipy.org/doc/scipy/reference/generated/scipy.linalg.svd.html#scipy.linalg.svd\n",
        "\n",
        "**1)** Cree una matriz compleja $A$ de dimensiones $n\\times m$ con $n=9$ y $m=6$, cuyas entradas $a_{ij} = x_{ij} + i y_{ij}$ se computen generando números aleatorios $x_{ij}$ e $y_{ij}$ a partir de una distribución normal de media 0 y varianza 1.\n",
        "\n",
        "**2)** Use `linalg.svd()` para calcular la SVD de $A$. Dicha función retorna 3 arrays, digamos `L`, `s` y `Rc`, donde `L` denota a la matriz $L$, `s` denota al vector de valores singulares $(\\sigma_1,\\sigma_2,...,\\sigma_k)$ y `Rc` denota a la matriz compleja conjugada $R^{\\dagger}$.\n",
        "Inspeccione las dimensiones de los arrays retornados.\n",
        "\n",
        "**3)** Use el vector `s` para crear la matriz diagonal $D$ de dimensiones $n\\times m$.\n",
        "\n",
        "**4)** Use `np.allclose()` para verificar numéricamente la ecuación $(1)$."
      ]
    },
    {
      "cell_type": "code",
      "execution_count": 46,
      "metadata": {
        "id": "0pUK7GdhAQBy"
      },
      "outputs": [
        {
          "name": "stdout",
          "output_type": "stream",
          "text": [
            "Dimensiones de L: (6, 6)\n",
            "Dimensiones de s: (6,)\n",
            "Dimensiones de Rc: (6, 6)\n",
            "Matriz diagonal D:\n",
            "[[6.11483935 0.         0.         0.         0.         0.        ]\n",
            " [0.         5.70046922 0.         0.         0.         0.        ]\n",
            " [0.         0.         3.8904395  0.         0.         0.        ]\n",
            " [0.         0.         0.         3.36636764 0.         0.        ]\n",
            " [0.         0.         0.         0.         1.53488623 0.        ]\n",
            " [0.         0.         0.         0.         0.         0.83268192]]\n",
            "True\n"
          ]
        }
      ],
      "source": [
        "# 6.1)\n",
        "aux_x = np.random.normal(0, 1, size=(6,6))\n",
        "aux_y = np.random.normal(0, 1, size=(6,6))\n",
        "a = aux_x + 1j * aux_y\n",
        "\n",
        "# Calcular la SVD de A\n",
        "L, s, Rc = linalg.svd(a)\n",
        "\n",
        "print(\"Dimensiones de L:\", L.shape)\n",
        "print(\"Dimensiones de s:\", s.shape)\n",
        "print(\"Dimensiones de Rc:\", Rc.shape)\n",
        "\n",
        "D = np.diag(s) #Para ser diagonal n=m SIEMPRE! Por eso cambié n=9 --> n=6\n",
        "\n",
        "print(\"Matriz diagonal D:\")\n",
        "print(D)\n",
        "\n",
        "print(np.allclose(a, np.dot(np.dot(L, D), Rc)))\n"
      ]
    }
  ],
  "metadata": {
    "colab": {
      "provenance": []
    },
    "kernelspec": {
      "display_name": "Python 3.9.0 ('pointcloud_upsampling')",
      "language": "python",
      "name": "python3"
    },
    "language_info": {
      "codemirror_mode": {
        "name": "ipython",
        "version": 3
      },
      "file_extension": ".py",
      "mimetype": "text/x-python",
      "name": "python",
      "nbconvert_exporter": "python",
      "pygments_lexer": "ipython3",
      "version": "3.9.0"
    },
    "vscode": {
      "interpreter": {
        "hash": "402cbac5888b33cf79a214eb8c201956a37e5ef9aca55333b119a6be878a710a"
      }
    }
  },
  "nbformat": 4,
  "nbformat_minor": 0
}
