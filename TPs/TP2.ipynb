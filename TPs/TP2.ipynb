{
  "cells": [
    {
      "cell_type": "markdown",
      "metadata": {
        "id": "NRYEofSD0xoF"
      },
      "source": [
        "# Familiarizandose con **Numpy**\n",
        "\n",
        "Referencias:\n",
        "* https://www.datacamp.com/cheat-sheet/numpy-cheat-sheet-data-analysis-in-python\n",
        "* https://towardsdatascience.com/a-cheat-sheet-on-generating-random-numbers-in-numpy-5fe95ec2286\n",
        "\n",
        "## **Ejercicio 1)** Importando librerías\n",
        "\n",
        "Importe las librerías `numpy` para operar con arrays, `scipy` para operar con algebra lineal y `matplotlib.pyplot` para graficar."
      ]
    },
    {
      "cell_type": "code",
      "execution_count": 1,
      "metadata": {
        "id": "I8N3D_nU1_oT"
      },
      "outputs": [],
      "source": [
        "import numpy as np\n",
        "import scipy as sp\n",
        "import matplotlib.pyplot as plt"
      ]
    },
    {
      "cell_type": "markdown",
      "metadata": {
        "id": "NcaGEHAd10sb"
      },
      "source": [
        "## **Ejercicio 2)** Creando arrays\n",
        "\n",
        "**1)** Cree un array de enteros `a` a partir de la lista `[1,2,3]`.\n",
        "\n",
        "**2)** Cree un array bidimensional de flotantes `b` a partir de la lista de listas `[[1.5,2,3],[4,5,6]]`.\n",
        "\n",
        "**3)** Cree un array tridimensional de flotantes `b` a partir de la lista de listas `[[[1.5,2,3],[4,5,6]],[[3,2,1],[4,5,6]]]`."
      ]
    },
    {
      "cell_type": "code",
      "execution_count": 95,
      "metadata": {
        "id": "kmcjSK0BCua3"
      },
      "outputs": [
        {
          "name": "stdout",
          "output_type": "stream",
          "text": [
            "(3,)\n",
            "(2, 3)\n",
            "(2, 2, 3)\n"
          ]
        }
      ],
      "source": [
        "# 2.1)\n",
        "a = np.array([1,2,3])\n",
        "b = np.array([[1.5,2,3], [4,5,6]])\n",
        "c = np.array([[[1.5,2,3],[4,5,6]],[[3,2,1],[4,5,6]]])\n",
        "\n",
        "print(a.shape)\n",
        "print(b.shape)\n",
        "print(c.shape)"
      ]
    },
    {
      "cell_type": "markdown",
      "metadata": {
        "id": "qxuzt1pLQAzE"
      },
      "source": [
        "## **Ejercicio 3)** Inicializando arrays\n",
        "\n",
        "**1)** Utilice `np.zeros` para crear un array bidimensional de flotantes incializados a `0.0`, y de dimensiones de tamaños `(3,4)`.\n",
        "\n",
        "**2)** Utilice `np.ones` para crear un array tridimensional de enteros inicializados a `1`, y de dimensiones `(2,3,4)`.\n",
        "\n",
        "**3)** Utilice `np.arange` para crear un array `d` de valores enteros equiespaciados de a `5` entre `10` y `25`.\n",
        "\n",
        "**4)** Utilice `np.linspace` para crear un array de `9` valores flotantes equiespaciados entre `0.0` y `9.0`.\n",
        "\n",
        "**5)** Utilice `np.full` para crear un array bidimensional de entradas iguales a `7`, y de dimesiones `(2,2)`.\n",
        "\n",
        "**6)** Utilice `np.eye` para crear una matriz identidad de dimensiones 2x2.\n",
        "\n",
        "**7)** Utilice `np.random.random` para crear un array bidimensional de dimensiones 2x2 inicializado con valores aleatorios uniformemente sorteados del intervalo $[0,1]$.\n",
        "\n",
        "**8)** Utilice `np.empty` para crear un array bidimensional sin inicializar y de dimensiones `(3,2)`.\n"
      ]
    },
    {
      "cell_type": "code",
      "execution_count": 81,
      "metadata": {
        "id": "am2dMRPnC0BJ"
      },
      "outputs": [
        {
          "name": "stdout",
          "output_type": "stream",
          "text": [
            "(3, 4)\n",
            "(2, 3, 4)\n",
            "[10 15 20]\n",
            "[0.    1.125 2.25  3.375 4.5   5.625 6.75  7.875 9.   ]\n",
            "[[7 7]\n",
            " [7 7]]\n",
            "[[1. 0.]\n",
            " [0. 1.]]\n",
            "[[0.94190581 0.71804012]\n",
            " [0.33379285 0.35098995]]\n",
            "[[1.5 2. ]\n",
            " [3.  4. ]\n",
            " [5.  6. ]]\n"
          ]
        }
      ],
      "source": [
        "# 3.1)\n",
        "zeros = np.zeros((3,4))\n",
        "print(zeros.shape)\n",
        "\n",
        "ones = np.ones((2,3,4))\n",
        "print(ones.shape)\n",
        "\n",
        "d = np.arange(10,25,5)\n",
        "print(d)\n",
        "\n",
        "equiespaciados = np.linspace(0,9,9)\n",
        "print(equiespaciados)\n",
        "\n",
        "e = np.full((2,2), 7)\n",
        "print(e)\n",
        "\n",
        "f = np.eye(2)\n",
        "print(f)\n",
        "\n",
        "random = np.random.random((2,2))\n",
        "print(random)\n",
        "\n",
        "empty = np.empty((3,2))\n",
        "print(empty)"
      ]
    },
    {
      "cell_type": "markdown",
      "metadata": {
        "id": "XYA7TEySCIF6"
      },
      "source": [
        "## **Ejercicio 4)** Inspeccionando arrays\n",
        "\n",
        "Considere los arrays de los ejercicios 2) y 3).\n",
        "\n",
        "**1)** Utilizando `.shape`, determine cuales son las dimensiones del array `a`.\n",
        "\n",
        "**2)** Utilizando la función `len()`, determine el *largo* del array `a`.\n",
        "\n",
        "**3)** Utilizando `.ndim`, determine el número de dimensiones del array `b`.\n",
        "\n",
        "**4)** Utilizando `.size`, determine el número de entradas que tienen `e`.\n",
        "\n",
        "**5)** Utilizando `.dtype`, determine el tipo de los datos contenidos por el array `b`.\n",
        "\n",
        "**6)** Utilizando `.dtype.name`, determine el nombre del tipo de los datos contenidos por el array `b`.\n",
        "\n",
        "**7)** Utilizando `.astype`, convierta el array `b` a un array de tipo `int`.\n",
        "\n"
      ]
    },
    {
      "cell_type": "code",
      "execution_count": 82,
      "metadata": {
        "id": "3w4J3xLLR8J2"
      },
      "outputs": [
        {
          "name": "stdout",
          "output_type": "stream",
          "text": [
            "(3,)\n",
            "3\n",
            "2\n",
            "4\n",
            "float64\n",
            "float64\n",
            "int32\n"
          ]
        }
      ],
      "source": [
        "# 4.1)\n",
        "print(a.shape)\n",
        "print(len(a))\n",
        "print(b.ndim)\n",
        "print(e.size)\n",
        "print(b.dtype)\n",
        "print(b.dtype.name)\n",
        "b = b.astype(int)\n",
        "print(b.dtype)"
      ]
    },
    {
      "cell_type": "markdown",
      "metadata": {
        "id": "NIvk_fOTpihu"
      },
      "source": [
        "## **Ejercicio 5)** Tipos de datos\n",
        "\n",
        "**1)** Cree un array que contenga elementos de tipo `np.int64`.\n",
        "\n",
        "**2)** Cree un array que contenga elementos de tipo `np.float32`.\n",
        "\n",
        "**3)** Cree un array que contenga elementos de tipo `np.complex128`.\n",
        "\n",
        "**4)** Cree un array que contenga elementos de tipo `np.bool`.\n",
        "\n",
        "**5)** Cree un array que contenga elementos de tipo `np.object`.\n",
        "\n",
        "**6)** Cree un array que contenga elementos de tipo `np.string_`.\n",
        "\n",
        "**7)** Cree un array que contenga elementos de tipo `np.unicode_`."
      ]
    },
    {
      "cell_type": "code",
      "execution_count": 44,
      "metadata": {
        "id": "1MHRaUbvpjTl"
      },
      "outputs": [],
      "source": [
        "# 5.1)\n",
        "int64 = np.random.random(4).astype(np.int64)\n",
        "float32 = np.random.random(4).astype(np.float32)\n",
        "complex128 = np.random.random(4).astype(np.complex128)\n",
        "bool = np.random.random(4) > 0.5\n",
        "object = np.random.random(4).astype(np.object_)\n",
        "string = np.random.random(4).astype(np.string_)\n",
        "unicode = np.random.random(4).astype(np.unicode_)"
      ]
    },
    {
      "cell_type": "markdown",
      "metadata": {
        "id": "DKT4mjnssUjE"
      },
      "source": [
        "## **Ejercicio 6)** Operando sobre arrays\n",
        "\n",
        "Considere los arrays de los ejercicios 2) y 3).\n",
        "\n",
        "**1)** Calcule la resta `a-b` de los arrays `a` y `b` y almacene el resultado en un array `g`.\n",
        "\n",
        "**2)** Notar que `a` y `b` poseen diferentes dimensiones (i.e., `a.shape` es distinto de `b.shape`) y, sin embargo, en el inciso anterior numpy computa la suma `a+b`. Explique lo que ocurre.\n",
        "\n",
        "**3)** Compare el anterior resultado con el uso de `np.substract`.\n",
        "\n",
        "**4)** Calcule la suma `a-b` de los arrays `a` y `b`.\n",
        "\n",
        "**5)** Compare el anterior resultado con el uso de `np.add`.\n",
        "\n",
        "**6)** Calcule la división punto a punto  `a/b` de `a` y `b`.\n",
        "\n",
        "**7)** Compare el anterior resultado con el uso de `np.divide`.\n",
        "\n",
        "**8)** Calcule la multiplicación punto a punto  `a*b` de `a` y `b`.\n",
        "\n",
        "**9)** Compare el anterior resultado con el uso de `np.multiply`.\n",
        "\n",
        "**10)** Calcule la exponencial punto a punto  `np.exp(b)` de `b`.\n",
        "\n",
        "**11)** Calcule la raíz cuadrada punto a punto  `np.sqrt(b)` de `b`.\n",
        "\n",
        "**12)** Calcule el seno punto a punto  `np.sin(a)` de `a`.\n",
        "\n",
        "**13)** Calcule el coseno punto a punto  `np.sin(b)` de `b`.\n",
        "\n",
        "**14)** Calcule el logaritmo natural punto a punto  `np.log(a)` de `a`.\n",
        "\n",
        "**15)** Calcule el producto punto `e.dot(f)` entre `e` y `f`.\n",
        "\n",
        "**16)** Compare el anterior resultado con el uso de `np.dot`.\n",
        "\n",
        "**17)** Explique las diferentes opciones que puede adoptar el producto punto de numpy según el número de dimensiones que tengan sus factores.\n",
        "\n",
        "**Ayuda:** use https://numpy.org/doc/stable/reference/generated/numpy.dot.html"
      ]
    },
    {
      "cell_type": "code",
      "execution_count": 115,
      "metadata": {
        "id": "S0j5b3fiSZ1U"
      },
      "outputs": [
        {
          "name": "stdout",
          "output_type": "stream",
          "text": [
            "[[-0.5  0.   0. ]\n",
            " [-3.  -3.  -3. ]]\n",
            "[[-0.5  0.   0. ]\n",
            " [-3.  -3.  -3. ]]\n",
            "[[2.5 4.  6. ]\n",
            " [5.  7.  9. ]]\n",
            "[[2.5 4.  6. ]\n",
            " [5.  7.  9. ]]\n",
            "[[0.66666667 1.         1.        ]\n",
            " [0.25       0.4        0.5       ]]\n",
            "[[ 1.5  4.   9. ]\n",
            " [ 4.  10.  18. ]]\n",
            "[[ 1.5  4.   9. ]\n",
            " [ 4.  10.  18. ]]\n",
            "[[  4.48168907   7.3890561   20.08553692]\n",
            " [ 54.59815003 148.4131591  403.42879349]]\n",
            "[[1.22474487 1.41421356 1.73205081]\n",
            " [2.         2.23606798 2.44948974]]\n",
            "[0.84147098 0.90929743 0.14112001]\n",
            "[[ 0.99749499  0.90929743  0.14112001]\n",
            " [-0.7568025  -0.95892427 -0.2794155 ]]\n",
            "[0.         0.69314718 1.09861229]\n",
            "[[7. 7.]\n",
            " [7. 7.]]\n",
            "[[7. 7.]\n",
            " [7. 7.]]\n"
          ]
        },
        {
          "data": {
            "text/plain": [
              "'\\nDot product of two arrays. Specifically,\\n\\nIf both a and b are 1-D arrays, it is inner product of vectors (without complex conjugation).\\n\\nIf both a and b are 2-D arrays, it is matrix multiplication, but using matmul or a @ b is preferred.\\n\\nIf either a or b is 0-D (scalar), it is equivalent to multiply and using numpy.multiply(a, b) or a * b is preferred.\\n\\nIf a is an N-D array and b is a 1-D array, it is a sum product over the last axis of a and b.\\n\\nIf a is an N-D array and b is an M-D array (where M>=2), it is a sum product over the last axis of a and the second-to-last axis of b:\\n'"
            ]
          },
          "execution_count": 115,
          "metadata": {},
          "output_type": "execute_result"
        }
      ],
      "source": [
        "# 6.1)\n",
        "g = a - b\n",
        "print(g)\n",
        "\n",
        "#A pesar de tener distintas dimensiones Python replica el array 'a' para llevarlo a la misma dimensión que 'b' y efectuar la resta\n",
        "\n",
        "h = np.subtract(a,b)\n",
        "print(h)\n",
        "\n",
        "print(a+b)\n",
        "print(np.add(a,b))\n",
        "\n",
        "print(a/b)\n",
        "np.divide(a,b)\n",
        "\n",
        "print(a*b)\n",
        "print(np.multiply(a,b))\n",
        "\n",
        "print(np.exp(b))\n",
        "\n",
        "print(np.sqrt(b))\n",
        "\n",
        "print(np.sin(a))\n",
        "print(np.sin(b))\n",
        "\n",
        "print(np.log(a))\n",
        "\n",
        "print(e.dot(f))\n",
        "print(np.dot(e,f))\n",
        "\n",
        "'''\n",
        "Dot product of two arrays. Specifically,\n",
        "\n",
        "If both a and b are 1-D arrays, it is inner product of vectors (without complex conjugation).\n",
        "\n",
        "If both a and b are 2-D arrays, it is matrix multiplication, but using matmul or a @ b is preferred.\n",
        "\n",
        "If either a or b is 0-D (scalar), it is equivalent to multiply and using numpy.multiply(a, b) or a * b is preferred.\n",
        "\n",
        "If a is an N-D array and b is a 1-D array, it is a sum product over the last axis of a and b.\n",
        "\n",
        "If a is an N-D array and b is an M-D array (where M>=2), it is a sum product over the last axis of a and the second-to-last axis of b:\n",
        "'''"
      ]
    },
    {
      "cell_type": "markdown",
      "metadata": {
        "id": "Jo3x-Y7WZBBu"
      },
      "source": [
        "## **Ejercicio 7)** Comparando arrays\n",
        "\n",
        "**1)** Use `==` para realizar una compación punto a punto de los arrays `a` y `b`.\n",
        "\n",
        "**2)** Use `<` para realizar una comparación punto a punto del array `b` con el escalar `2`.\n",
        "\n",
        "**3)** Use `np.array_equal(a,b)` para determinar si `a` y `b` son iguales como arrays."
      ]
    },
    {
      "cell_type": "code",
      "execution_count": 63,
      "metadata": {
        "id": "H9n8g9-GZAM6"
      },
      "outputs": [
        {
          "name": "stdout",
          "output_type": "stream",
          "text": [
            "[[False  True  True]\n",
            " [False False False]]\n",
            "[[ True False False]\n",
            " [False False False]]\n",
            "False\n"
          ]
        }
      ],
      "source": [
        "# 7.1)\n",
        "print(a==b)\n",
        "print(b < 2)\n",
        "print(np.array_equal(a,b))"
      ]
    },
    {
      "cell_type": "markdown",
      "metadata": {
        "id": "JUrKqiWLZScG"
      },
      "source": [
        "## **Ejercicio 8)** *Copiando* arrays\n",
        "\n",
        "**1)** Use `.view()` para crear una vista del array `a`.\n",
        "\n",
        "**2)** Use `.copy()` para crear una copa del array `a`."
      ]
    },
    {
      "cell_type": "code",
      "execution_count": 65,
      "metadata": {
        "id": "7bQI_mVoZRoS"
      },
      "outputs": [
        {
          "name": "stdout",
          "output_type": "stream",
          "text": [
            "[1 2 3]\n",
            "[1 2 3]\n",
            "[10  2  3]\n",
            "[1 2 3]\n"
          ]
        }
      ],
      "source": [
        "# 8.1)\n",
        "a_view = a.view() #Si modificamos a, se modifica a_view\n",
        "a_copy = a.copy()\n",
        "\n",
        "print(a_view)\n",
        "print(a_copy)"
      ]
    },
    {
      "cell_type": "markdown",
      "metadata": {
        "id": "rBJYDjW8ZZNw"
      },
      "source": [
        "## **Ejercicio 9)** Ordenado\n",
        "\n",
        "**1)** Use `.sort()` para ordenar los elementos de `a`.\n",
        "\n",
        "**2)** Ordene los elementos de `a` a lo largo del eje `0`. Explique."
      ]
    },
    {
      "cell_type": "code",
      "execution_count": 70,
      "metadata": {
        "id": "UAOLCdPtZk2B"
      },
      "outputs": [
        {
          "name": "stdout",
          "output_type": "stream",
          "text": [
            "[1 2 3]\n",
            "[1 2 3]\n"
          ]
        }
      ],
      "source": [
        "# 9.1)\n",
        "\n",
        "a.sort()\n",
        "print(a)\n",
        "\n",
        "a.sort(axis=0) #Se ordena de acuerdo al primer eje o dimensión\n",
        "print(a)"
      ]
    },
    {
      "cell_type": "markdown",
      "metadata": {
        "id": "eLeebs0YZlLK"
      },
      "source": [
        "## **Ejercicio 10)** Indexado y *slicing* (rebanado) de arrays\n",
        "\n",
        "**1)** Seleccione el segundo elemento de `a`.\n",
        "\n",
        "**2)** Seleccione el elemento en la fila 1 y columna 2 de `b`.\n",
        "\n",
        "Si `n` y `m` son enteros, luego `[n:m]` indica el rango de índices que van desde `n` hasta `m-1`.\n",
        "\n",
        "**3)** Seleccione el rango `[0:2]` de elementos de `a`.\n",
        "\n",
        "**4)** Seleccione los elementos de `b` en el rango `[0:2]` y la columna `1`.\n",
        "\n",
        "**5)** Seleccione todos los elementos de `b` que esten en el rango de filas `[0:1]` y el rango completo de columnas.\n",
        "\n",
        "**6)** Uso de *elipsis*. Seleccione los elementos de `c` indexados por `[1,...]`. Es esto lo mismo que lo indexado por `[1,:,:]`?\n",
        "\n",
        "Si `n`, `m` y `s` son enteros, luego `[n:m:s]` indica el rango de índices que van desde `n` hasta `m-1` saltando de a `s` elementos.\n",
        "\n",
        "**7)** Utilice lo mencionado anteriormente para acceder a los elementos de `a` de forma invertida.\n",
        "\n",
        "**8)** Seleccione los elementos de `a` que sean menores que dos.\n",
        "\n",
        "**9)** Seleccione los elementos de `b` indicados por la lista de índices `[(1,0),(0,1),(1,2),(0,0)]` utilizando, correspondientemente, una lista de indices fila y una lista de índices columna.\n",
        "\n",
        "**10)** Utilizando una lista de indices fila, seleccione las filas `1,0,1,0` de `b`, y luego, para cada selección anterior, utilice una lista de índices columna para seleccionar las columnas `0,1,2,0`."
      ]
    },
    {
      "cell_type": "code",
      "execution_count": 100,
      "metadata": {
        "id": "DKfWU3ABZrO6"
      },
      "outputs": [
        {
          "name": "stdout",
          "output_type": "stream",
          "text": [
            "2\n",
            "6.0\n",
            "[1 2]\n",
            "[2. 5.]\n",
            "[[1.5 2.  3. ]]\n",
            "[[3. 2. 1.]\n",
            " [4. 5. 6.]]\n",
            "[3 2 1]\n",
            "[1]\n",
            "[4.0, 2.0, 6.0, 1.5]\n",
            "[4.0, 2.0, 6.0, 1.5]\n"
          ]
        }
      ],
      "source": [
        "# 10.1)\n",
        "print(a[1])\n",
        "print(b[1,2])\n",
        "print(a[0:2])\n",
        "#print(b[a[0:2]-1, 1]) #Hay un error de enunciado: a=[1,2,3] y a[0:2]=[1,2], pero b solo tiene columnas 0 y 1, no tiene columna 2, por eso le resto 1\n",
        "print(b[:2, 1]) #Hay un error de enunciado: a=[1,2,3] y a[0:2]=[1,2], pero b solo tiene columnas 0 y 1, no tiene columna 2, por eso le resto 1\n",
        "print(b[0:1,:])\n",
        "print(c[1,...])\n",
        "print(a[::-1])\n",
        "print(a[a<2])\n",
        "print([b[i] for i in [(1,0),(0,1),(1,2),(0,0)]])\n",
        "\n",
        "fila = [1,0,1,0]\n",
        "columna = [0,1,2,0]\n",
        "\n",
        "print([b[fila[i],columna[i]] for i,_ in enumerate(fila)])\n",
        "\n"
      ]
    },
    {
      "cell_type": "markdown",
      "metadata": {
        "id": "ElU003n_Z21x"
      },
      "source": [
        "## **Ejercicio 11)** transposición\n",
        "\n",
        "**1)** Use `np.transpose()` para calcular la traspuesta del array `b`, y asignarlo a una variable `i`.\n",
        "\n",
        "**2)** Use `.T` para acceder a `i` de forma traspuesta. Es esta forma traspuesta igual a `b`?"
      ]
    },
    {
      "cell_type": "code",
      "execution_count": 101,
      "metadata": {
        "id": "PdUyQZaibDQk"
      },
      "outputs": [
        {
          "name": "stdout",
          "output_type": "stream",
          "text": [
            "[[1.5 4. ]\n",
            " [2.  5. ]\n",
            " [3.  6. ]]\n",
            "[[1.5 2.  3. ]\n",
            " [4.  5.  6. ]]\n",
            "[[1.5 2.  3. ]\n",
            " [4.  5.  6. ]]\n"
          ]
        }
      ],
      "source": [
        "# 11.1)\n",
        "i = np.transpose(b)\n",
        "print(i)\n",
        "print(b)\n",
        "print(i.T)\n"
      ]
    },
    {
      "cell_type": "markdown",
      "metadata": {
        "id": "QIaiu19baXiQ"
      },
      "source": [
        "## **Ejercicio 12)** Redimensionado\n",
        "\n",
        "**1)** Use `.ravel()` para *achatar* el array `b`.\n",
        "\n",
        "**2)** Use `.reshape()` para redimensionar el array `g` de manera que adquiera dimensiones especificadas por la tupla `(3,-2)`.\n",
        "\n",
        "**3)** Que indica aquí el signo negativo del segundo índice?"
      ]
    },
    {
      "cell_type": "code",
      "execution_count": 103,
      "metadata": {
        "id": "3f1juN38aUiO"
      },
      "outputs": [
        {
          "name": "stdout",
          "output_type": "stream",
          "text": [
            "[1.5 2.  3.  4.  5.  6. ]\n",
            "[[ 0  0]\n",
            " [ 0 -3]\n",
            " [-3 -3]]\n"
          ]
        }
      ],
      "source": [
        "# 12.1)\n",
        "print(b.ravel())\n",
        "print(g.reshape((3,-2)))"
      ]
    },
    {
      "cell_type": "markdown",
      "metadata": {
        "id": "-NfN6hr4afE9"
      },
      "source": [
        "## **Ejercicio 13)** Agregando y quitando elementos\n",
        "\n",
        "**1)** Use `np.resize()` para crear a partir del array `h` un nuevo array de tamaño y dimensiones diferentes indicadas por `(2,6)`.\n",
        "\n",
        "**2)** Use `np.append()` para crear un nuevo array que agrege los elementos de `g` al final de los elementos de `h`. Notar que `h` y `g` tienen diferentes dimensiones. Cómo resuelve `numpy` esta cuestión?\n",
        "\n",
        "**3)** Use `np.insert()` para crear una copia de `a` en donde se inserta el número `5` en la posición indexada por `1`.\n",
        "\n",
        "**4)** Use `np.delete()` para eliminar los elementos de `a` indicados por la lista de índices `[1]`."
      ]
    },
    {
      "cell_type": "code",
      "execution_count": 124,
      "metadata": {
        "id": "eHAdt7bUaRN2"
      },
      "outputs": [
        {
          "name": "stdout",
          "output_type": "stream",
          "text": [
            "[[-0.5  0.   0.  -3.  -3.  -3. ]\n",
            " [ 0.   0.   0.   0.   0.   0. ]]\n",
            "[[-0.5  0.   0. ]\n",
            " [-3.  -3.  -3. ]]\n",
            "[-0.5  0.   0.  -3.  -3.  -3.   0.   0.   0.   0.   0.   0.  -0.5  0.\n",
            "  0.  -3.  -3.  -3. ]\n",
            "[1 5 2 3]\n",
            "[1 2 3]\n"
          ]
        }
      ],
      "source": [
        "# 13.1)\n",
        "h.resize((2,6))\n",
        "\n",
        "print(h)\n",
        "print(g)\n",
        "new = np.append(h,g)\n",
        "print(new) #Numpy aplana los arrays para que tengan la misma dimensión\n",
        "\n",
        "a_new = np.insert(a,1,5)\n",
        "print(a_new)\n",
        "\n",
        "a_delete = np.delete(a_new,[1])\n",
        "print(a_delete)"
      ]
    },
    {
      "cell_type": "markdown",
      "metadata": {
        "id": "qtvq4B1NaRhe"
      },
      "source": [
        "## **Ejercicio 14)** Combinando arrays\n",
        "\n",
        "**a)** Use `np.concatenate()` para concatenar los arrays `a` y `d`.\n",
        "\n",
        "**b)** Use `np.vstack()` para apilar verticalmente los arrays `a` y `b`.\n",
        "\n",
        "**c)** Use `np.row_stack()` para apilar verticalmente los arrays `e` y `f`.\n",
        "\n",
        "**d)** Use `np.hstack()` para apilar horizontalmente los arrays `e` y `f`.\n",
        "\n",
        "**e)** Use `np.column_stack()` para apilar horizontalmente los arrays `a` y `d`."
      ]
    },
    {
      "cell_type": "code",
      "execution_count": 130,
      "metadata": {
        "id": "0NqrIYB3bB61"
      },
      "outputs": [
        {
          "name": "stdout",
          "output_type": "stream",
          "text": [
            "[ 1  2  3 10 15 20]\n",
            "[[1.  2.  3. ]\n",
            " [1.5 2.  3. ]\n",
            " [4.  5.  6. ]]\n",
            "[[7. 7.]\n",
            " [7. 7.]\n",
            " [1. 0.]\n",
            " [0. 1.]]\n",
            "[[7. 7. 1. 0.]\n",
            " [7. 7. 0. 1.]]\n",
            "[[ 1 10]\n",
            " [ 2 15]\n",
            " [ 3 20]]\n"
          ]
        }
      ],
      "source": [
        "# 14.1)\n",
        "res = np.concatenate((a,d))\n",
        "print(res)\n",
        "\n",
        "res_1 = np.vstack((a,b))\n",
        "print(res_1)\n",
        "\n",
        "res_2 = np.row_stack((e,f))\n",
        "print(res_2)\n",
        "\n",
        "res_3 = np.hstack((e,f))\n",
        "print(res_3)\n",
        "\n",
        "res_4 = np.column_stack((a,d))\n",
        "print(res_4)"
      ]
    },
    {
      "cell_type": "markdown",
      "metadata": {
        "id": "QXtaTV8aazoG"
      },
      "source": [
        "## **Ejercicio 15)** *Separando* arrays\n",
        "\n",
        "**a)** Use `np.hsplit()` para separar horizontalmente el array `a` en 3 partes.\n",
        "\n",
        "**b)** Use `np.vsplit()` para separar verticalmente el array `c` en 2 partes.\n",
        "\n",
        "**c)** Cree el array `z` dado por\n",
        "\n",
        "    [[1, 2, 3, 4],\n",
        "      [2, 0, 0, 2],\n",
        "      [3, 1, 1, 0]]\n",
        "\n",
        "y sepárelo en dos partes a lo largo del eje `1`."
      ]
    },
    {
      "cell_type": "code",
      "execution_count": 133,
      "metadata": {
        "id": "w1zDcFsua-lN"
      },
      "outputs": [
        {
          "name": "stdout",
          "output_type": "stream",
          "text": [
            "[array([1]), array([2]), array([3])]\n",
            "[array([[[1.5, 2. , 3. ],\n",
            "        [4. , 5. , 6. ]]]), array([[[3., 2., 1.],\n",
            "        [4., 5., 6.]]])]\n",
            "[array([[1, 2],\n",
            "       [2, 0],\n",
            "       [3, 1]]), array([[3, 4],\n",
            "       [0, 2],\n",
            "       [1, 0]])]\n"
          ]
        }
      ],
      "source": [
        "# 15.1)\n",
        "\n",
        "split = np.hsplit(a,3)\n",
        "print(split)\n",
        "\n",
        "split_v = np.vsplit(c,2)\n",
        "print(split_v)\n",
        "\n",
        "z = np.array([[1, 2, 3, 4],\n",
        "      [2, 0, 0, 2],\n",
        "      [3, 1, 1, 0]])\n",
        "\n",
        "split_1 = np.split(z,2,axis=1)\n",
        "print(split_1)"
      ]
    },
    {
      "cell_type": "markdown",
      "metadata": {
        "id": "sBolXn9yxIU7"
      },
      "source": [
        "## **Ejercicio 16)** Generando números aleatorios\n",
        "\n",
        "**1)** Use `np.random.random()` para generar un número aleatorio de tipo float64 a partir de la distribución uniforme en $[0,1]$.\n",
        "\n",
        "**2)** Use `np.random.random()` para crear un array de 10 números aleatorios de tipo float64 generados a partir de la distribución uniforme en $[0,1]$.\n",
        "\n",
        "**3)** Use `np.random.random()` para crear un array dos dimensional de dimensiones `(3,4)` conteniendo números aleatorios de tipo float64 generados a partir de la distribución uniforme en $[0,1]$.\n",
        "\n",
        "**4)** Use `np.random.randn()` para generar un número aleatorio de tipo float64 a partir de la distribución normal centrada en $\\mu=0$ y de varianza $\\sigma^2=1$.\n",
        "\n",
        "**5)** Use `np.random.randn()` para generar un número aleatorio de tipo float64 a partir de la distribución normal centrada en $\\mu=5$ y de varianza $\\sigma^2=9$.\n",
        "\n",
        "**6)** Use `np.random.randn()` para generar un array de dimensiones `(3,2,3)` conteniendo números aleatorios de tipo float64 generados a partir de la distribución normal centrada en $\\mu=-1$ y de varianza $\\sigma^2=2$.\n",
        "\n",
        "**7)** Use `np.random.randint()` para generar un número aleatorio de tipo int64 a partir de la distribución uniforme en $\\{0,1,2,3\\}$.\n",
        "\n",
        "**8)** Use `np.random.randint()` para generar un número aleatorio de tipo int64 a partir de la distribución uniforme en $\\{10,11,12,13,14,15\\}$.\n",
        "\n",
        "**9)** Use `np.random.randint()` para generar un array de dimensiones `(3,2,3)` conteniendo números aleatorios de tipo int64 generados a partir de la distribución uniforme en $\\{0,1\\}$.\n",
        "\n",
        "**10)** Use `np.random.choice()` para seleccionar uniformemente al azar un elemento de la lista `[\"perro\",\"gato\",\"loro\",\"caballo\",\"vaca\"]`.\n",
        "\n",
        "**11)** Use `np.random.choice()` para crear un array de dimensiones `(3,3)` con selecciones generadas uniformemente al azar de los elementos de la lista `[\"perro\",\"gato\",\"loro\",\"caballo\",\"vaca\"]`.\n",
        "\n",
        "**12)** Use `np.random.choice()` para crear un array de dimensiones `(3,3,3)` con selecciones generadas al azar de los elementos de la lista `[\"perro\",\"gato\",\"loro\",\"caballo\",\"vaca\"]` de acuerdo a la correspondiente lista de probabilidades `[8/16,4/16,2/16,1/16,1/16]`.\n",
        "\n",
        "**13)** Use `np.random.permutation()` generar una permutación, seleccionada uniformemente al azar una de las `n!` permutaciones que existen de un conjunto de `n` elementos, de una la lista de números entre `0` y `n-1` para `n=10` denominada `lista_n`.\n",
        "\n",
        "**14)** Repita lo anterior usando `np.random.shuffle()` para aleatorizar la lista `lista_n` *in situ*."
      ]
    },
    {
      "cell_type": "code",
      "execution_count": 181,
      "metadata": {
        "id": "UMoFrNm1xEns"
      },
      "outputs": [
        {
          "data": {
            "text/plain": [
              "array([2, 5, 3, 0, 1, 7, 9, 6, 4, 8])"
            ]
          },
          "execution_count": 181,
          "metadata": {},
          "output_type": "execute_result"
        }
      ],
      "source": [
        "# 16.1)\n",
        "\n",
        "num = np.float64(np.random.random())\n",
        "num1 = np.float64(np.random.random(10))\n",
        "num2 = np.float64(np.random.random((3,4)))\n",
        "num3 = np.float64(np.random.randn())\n",
        "num4 = np.float64(5 + np.sqrt(9) * np.random.randn())\n",
        "num5 = np.float64(-1 + np.sqrt(2) * np.random.randn(3,2,3))\n",
        "num6 = np.int64(np.random.randint(0,4))\n",
        "num7 = np.int64(np.random.randint(10,16))\n",
        "num8 = np.int64(np.random.randint(0,1,size=(3,2,3)))\n",
        "elemento = np.random.choice([\"perro\",\"gato\",\"loro\",\"caballo\",\"vaca\"])\n",
        "array = np.random.choice([\"perro\",\"gato\",\"loro\",\"caballo\",\"vaca\"], size=(3,3))\n",
        "array = np.random.choice([\"perro\",\"gato\",\"loro\",\"caballo\",\"vaca\"], size=(3,3,3), p=[8/16,4/16,2/16,1/16,1/16])\n",
        "\n",
        "lista_n = np.arange(10)\n",
        "permutacion_aleatoria = np.random.permutation(lista_n)\n",
        "permutacion_shuffle = np.random.shuffle(lista_n)"
      ]
    }
  ],
  "metadata": {
    "colab": {
      "provenance": []
    },
    "kernelspec": {
      "display_name": "Python 3.9.0 ('pointcloud_upsampling')",
      "language": "python",
      "name": "python3"
    },
    "language_info": {
      "codemirror_mode": {
        "name": "ipython",
        "version": 3
      },
      "file_extension": ".py",
      "mimetype": "text/x-python",
      "name": "python",
      "nbconvert_exporter": "python",
      "pygments_lexer": "ipython3",
      "version": "3.9.0"
    },
    "vscode": {
      "interpreter": {
        "hash": "402cbac5888b33cf79a214eb8c201956a37e5ef9aca55333b119a6be878a710a"
      }
    }
  },
  "nbformat": 4,
  "nbformat_minor": 0
}
